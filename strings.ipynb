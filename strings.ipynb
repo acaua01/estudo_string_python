{
 "cells": [
  {
   "cell_type": "markdown",
   "id": "ac6b4210",
   "metadata": {},
   "source": [
    "# Usando a documentação Python"
   ]
  },
  {
   "cell_type": "code",
   "execution_count": 2,
   "id": "2a48946f",
   "metadata": {},
   "outputs": [],
   "source": [
    "# Listagem 1: primeira string \n",
    "\n",
    "primeira_string = \"casa\""
   ]
  },
  {
   "cell_type": "code",
   "execution_count": 3,
   "id": "ab11f4aa",
   "metadata": {},
   "outputs": [
    {
     "name": "stdout",
     "output_type": "stream",
     "text": [
      "CASA\n"
     ]
    }
   ],
   "source": [
    "maiusculas_primeira_string = primeira_string.upper()\n",
    "print(maiusculas_primeira_string)"
   ]
  },
  {
   "cell_type": "code",
   "execution_count": 4,
   "id": "d83ea1b8",
   "metadata": {},
   "outputs": [
    {
     "name": "stdout",
     "output_type": "stream",
     "text": [
      "casa\n"
     ]
    }
   ],
   "source": [
    "minusculas_primeira_string = primeira_string.lower()\n",
    "print(minusculas_primeira_string)"
   ]
  },
  {
   "cell_type": "code",
   "execution_count": null,
   "id": "65d252bb",
   "metadata": {},
   "outputs": [],
   "source": []
  }
 ],
 "metadata": {
  "kernelspec": {
   "display_name": "Python 3 (ipykernel)",
   "language": "python",
   "name": "python3"
  },
  "language_info": {
   "codemirror_mode": {
    "name": "ipython",
    "version": 3
   },
   "file_extension": ".py",
   "mimetype": "text/x-python",
   "name": "python",
   "nbconvert_exporter": "python",
   "pygments_lexer": "ipython3",
   "version": "3.10.9"
  }
 },
 "nbformat": 4,
 "nbformat_minor": 5
}
